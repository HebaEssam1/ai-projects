{
 "cells": [
  {
   "cell_type": "code",
   "execution_count": 1,
   "id": "c2cd7acc",
   "metadata": {
    "_cell_guid": "b1076dfc-b9ad-4769-8c92-a6c4dae69d19",
    "_uuid": "8f2839f25d086af736a60e9eeb907d3b93b6e0e5",
    "execution": {
     "iopub.execute_input": "2024-04-30T22:17:49.373766Z",
     "iopub.status.busy": "2024-04-30T22:17:49.372995Z",
     "iopub.status.idle": "2024-04-30T22:17:53.158586Z",
     "shell.execute_reply": "2024-04-30T22:17:53.157308Z"
    },
    "papermill": {
     "duration": 3.797352,
     "end_time": "2024-04-30T22:17:53.161451",
     "exception": false,
     "start_time": "2024-04-30T22:17:49.364099",
     "status": "completed"
    },
    "tags": []
   },
   "outputs": [],
   "source": [
    "#Importing Necessary Libraries\n",
    "import pandas as pd\n",
    "import numpy as np\n",
    "from matplotlib import pyplot as plt\n",
    "import seaborn as sns\n",
    "\n",
    "from sklearn.feature_extraction.text import TfidfVectorizer\n",
    "from sklearn.model_selection import train_test_split\n",
    "from sklearn.metrics import accuracy_score, f1_score\n",
    "from imblearn.over_sampling import SMOTE\n",
    "\n",
    "from sklearn.linear_model import LogisticRegression\n",
    "from sklearn.naive_bayes import MultinomialNB\n",
    "from sklearn.ensemble import RandomForestClassifier\n",
    "from xgboost import XGBClassifier\n",
    "\n",
    "from nltk.tokenize import word_tokenize\n",
    "from nltk.corpus import stopwords\n",
    "from nltk.stem import PorterStemmer\n",
    "from wordcloud import WordCloud, STOPWORDS\n",
    "import re\n",
    "import warnings\n",
    "warnings.filterwarnings('ignore')"
   ]
  },
  {
   "cell_type": "code",
   "execution_count": 2,
   "id": "34ae1291",
   "metadata": {
    "execution": {
     "iopub.execute_input": "2024-04-30T22:17:53.176283Z",
     "iopub.status.busy": "2024-04-30T22:17:53.175743Z",
     "iopub.status.idle": "2024-04-30T22:17:53.360335Z",
     "shell.execute_reply": "2024-04-30T22:17:53.359057Z"
    },
    "papermill": {
     "duration": 0.195167,
     "end_time": "2024-04-30T22:17:53.363213",
     "exception": false,
     "start_time": "2024-04-30T22:17:53.168046",
     "status": "completed"
    },
    "tags": []
   },
   "outputs": [],
   "source": [
    "train_df = pd.read_csv('/kaggle/input/twittersentimentdata/train.csv')\n",
    "test_df = pd.read_csv('/kaggle/input/twittersentimentdata/test.csv')"
   ]
  },
  {
   "cell_type": "code",
   "execution_count": 3,
   "id": "b6c28283",
   "metadata": {
    "execution": {
     "iopub.execute_input": "2024-04-30T22:17:53.377971Z",
     "iopub.status.busy": "2024-04-30T22:17:53.377590Z",
     "iopub.status.idle": "2024-04-30T22:17:53.384247Z",
     "shell.execute_reply": "2024-04-30T22:17:53.383490Z"
    },
    "papermill": {
     "duration": 0.017,
     "end_time": "2024-04-30T22:17:53.386731",
     "exception": false,
     "start_time": "2024-04-30T22:17:53.369731",
     "status": "completed"
    },
    "tags": []
   },
   "outputs": [
    {
     "data": {
      "text/plain": [
       "(31962, 3)"
      ]
     },
     "execution_count": 3,
     "metadata": {},
     "output_type": "execute_result"
    }
   ],
   "source": [
    "train_df.shape"
   ]
  },
  {
   "cell_type": "code",
   "execution_count": 4,
   "id": "bc9080d9",
   "metadata": {
    "execution": {
     "iopub.execute_input": "2024-04-30T22:17:53.401860Z",
     "iopub.status.busy": "2024-04-30T22:17:53.400936Z",
     "iopub.status.idle": "2024-04-30T22:17:53.436082Z",
     "shell.execute_reply": "2024-04-30T22:17:53.434948Z"
    },
    "papermill": {
     "duration": 0.045458,
     "end_time": "2024-04-30T22:17:53.438698",
     "exception": false,
     "start_time": "2024-04-30T22:17:53.393240",
     "status": "completed"
    },
    "tags": []
   },
   "outputs": [
    {
     "data": {
      "text/plain": [
       "0"
      ]
     },
     "execution_count": 4,
     "metadata": {},
     "output_type": "execute_result"
    }
   ],
   "source": [
    "train_df.duplicated().sum()"
   ]
  },
  {
   "cell_type": "code",
   "execution_count": 5,
   "id": "a4b36cf5",
   "metadata": {
    "execution": {
     "iopub.execute_input": "2024-04-30T22:17:53.454642Z",
     "iopub.status.busy": "2024-04-30T22:17:53.454218Z",
     "iopub.status.idle": "2024-04-30T22:17:53.462074Z",
     "shell.execute_reply": "2024-04-30T22:17:53.460922Z"
    },
    "papermill": {
     "duration": 0.018822,
     "end_time": "2024-04-30T22:17:53.464359",
     "exception": false,
     "start_time": "2024-04-30T22:17:53.445537",
     "status": "completed"
    },
    "tags": []
   },
   "outputs": [
    {
     "data": {
      "text/plain": [
       "id        int64\n",
       "label     int64\n",
       "tweet    object\n",
       "dtype: object"
      ]
     },
     "execution_count": 5,
     "metadata": {},
     "output_type": "execute_result"
    }
   ],
   "source": [
    "train_df.dtypes"
   ]
  },
  {
   "cell_type": "code",
   "execution_count": 6,
   "id": "9c2852a8",
   "metadata": {
    "execution": {
     "iopub.execute_input": "2024-04-30T22:17:53.481120Z",
     "iopub.status.busy": "2024-04-30T22:17:53.480433Z",
     "iopub.status.idle": "2024-04-30T22:17:53.494022Z",
     "shell.execute_reply": "2024-04-30T22:17:53.492855Z"
    },
    "papermill": {
     "duration": 0.02468,
     "end_time": "2024-04-30T22:17:53.496379",
     "exception": false,
     "start_time": "2024-04-30T22:17:53.471699",
     "status": "completed"
    },
    "tags": []
   },
   "outputs": [
    {
     "data": {
      "text/plain": [
       "id       0\n",
       "label    0\n",
       "tweet    0\n",
       "dtype: int64"
      ]
     },
     "execution_count": 6,
     "metadata": {},
     "output_type": "execute_result"
    }
   ],
   "source": [
    "train_df.isnull().sum()"
   ]
  },
  {
   "cell_type": "code",
   "execution_count": 7,
   "id": "6d5fb749",
   "metadata": {
    "execution": {
     "iopub.execute_input": "2024-04-30T22:17:53.512648Z",
     "iopub.status.busy": "2024-04-30T22:17:53.512257Z",
     "iopub.status.idle": "2024-04-30T22:17:53.522974Z",
     "shell.execute_reply": "2024-04-30T22:17:53.521744Z"
    },
    "papermill": {
     "duration": 0.021395,
     "end_time": "2024-04-30T22:17:53.525162",
     "exception": false,
     "start_time": "2024-04-30T22:17:53.503767",
     "status": "completed"
    },
    "tags": []
   },
   "outputs": [
    {
     "data": {
      "text/plain": [
       "id       0\n",
       "tweet    0\n",
       "dtype: int64"
      ]
     },
     "execution_count": 7,
     "metadata": {},
     "output_type": "execute_result"
    }
   ],
   "source": [
    "test_df.isnull().sum()"
   ]
  },
  {
   "cell_type": "code",
   "execution_count": 8,
   "id": "d8cd1b30",
   "metadata": {
    "execution": {
     "iopub.execute_input": "2024-04-30T22:17:53.541882Z",
     "iopub.status.busy": "2024-04-30T22:17:53.541445Z",
     "iopub.status.idle": "2024-04-30T22:17:53.868815Z",
     "shell.execute_reply": "2024-04-30T22:17:53.867580Z"
    },
    "papermill": {
     "duration": 0.338626,
     "end_time": "2024-04-30T22:17:53.871322",
     "exception": false,
     "start_time": "2024-04-30T22:17:53.532696",
     "status": "completed"
    },
    "tags": []
   },
   "outputs": [
    {
     "data": {
      "text/html": [
       "<div>\n",
       "<style scoped>\n",
       "    .dataframe tbody tr th:only-of-type {\n",
       "        vertical-align: middle;\n",
       "    }\n",
       "\n",
       "    .dataframe tbody tr th {\n",
       "        vertical-align: top;\n",
       "    }\n",
       "\n",
       "    .dataframe thead th {\n",
       "        text-align: right;\n",
       "    }\n",
       "</style>\n",
       "<table border=\"1\" class=\"dataframe\">\n",
       "  <thead>\n",
       "    <tr style=\"text-align: right;\">\n",
       "      <th></th>\n",
       "      <th>id</th>\n",
       "      <th>label</th>\n",
       "      <th>tweet</th>\n",
       "      <th>tweet_length</th>\n",
       "      <th>num_hashtags</th>\n",
       "      <th>num_exclamation_marks</th>\n",
       "      <th>num_question_marks</th>\n",
       "      <th>total_tags</th>\n",
       "      <th>num_punctuations</th>\n",
       "      <th>num_words</th>\n",
       "    </tr>\n",
       "  </thead>\n",
       "  <tbody>\n",
       "    <tr>\n",
       "      <th>0</th>\n",
       "      <td>1</td>\n",
       "      <td>0</td>\n",
       "      <td>@user when a father is dysfunctional and is s...</td>\n",
       "      <td>102</td>\n",
       "      <td>1</td>\n",
       "      <td>0</td>\n",
       "      <td>0</td>\n",
       "      <td>1</td>\n",
       "      <td>1</td>\n",
       "      <td>18</td>\n",
       "    </tr>\n",
       "    <tr>\n",
       "      <th>1</th>\n",
       "      <td>2</td>\n",
       "      <td>0</td>\n",
       "      <td>@user @user thanks for #lyft credit i can't us...</td>\n",
       "      <td>122</td>\n",
       "      <td>3</td>\n",
       "      <td>0</td>\n",
       "      <td>0</td>\n",
       "      <td>2</td>\n",
       "      <td>1</td>\n",
       "      <td>19</td>\n",
       "    </tr>\n",
       "    <tr>\n",
       "      <th>2</th>\n",
       "      <td>3</td>\n",
       "      <td>0</td>\n",
       "      <td>bihday your majesty</td>\n",
       "      <td>21</td>\n",
       "      <td>0</td>\n",
       "      <td>0</td>\n",
       "      <td>0</td>\n",
       "      <td>0</td>\n",
       "      <td>0</td>\n",
       "      <td>3</td>\n",
       "    </tr>\n",
       "    <tr>\n",
       "      <th>3</th>\n",
       "      <td>4</td>\n",
       "      <td>0</td>\n",
       "      <td>#model   i love u take with u all the time in ...</td>\n",
       "      <td>86</td>\n",
       "      <td>1</td>\n",
       "      <td>3</td>\n",
       "      <td>0</td>\n",
       "      <td>0</td>\n",
       "      <td>0</td>\n",
       "      <td>14</td>\n",
       "    </tr>\n",
       "    <tr>\n",
       "      <th>4</th>\n",
       "      <td>5</td>\n",
       "      <td>0</td>\n",
       "      <td>factsguide: society now    #motivation</td>\n",
       "      <td>39</td>\n",
       "      <td>1</td>\n",
       "      <td>0</td>\n",
       "      <td>0</td>\n",
       "      <td>0</td>\n",
       "      <td>1</td>\n",
       "      <td>4</td>\n",
       "    </tr>\n",
       "  </tbody>\n",
       "</table>\n",
       "</div>"
      ],
      "text/plain": [
       "   id  label                                              tweet  tweet_length  \\\n",
       "0   1      0   @user when a father is dysfunctional and is s...           102   \n",
       "1   2      0  @user @user thanks for #lyft credit i can't us...           122   \n",
       "2   3      0                                bihday your majesty            21   \n",
       "3   4      0  #model   i love u take with u all the time in ...            86   \n",
       "4   5      0             factsguide: society now    #motivation            39   \n",
       "\n",
       "   num_hashtags  num_exclamation_marks  num_question_marks  total_tags  \\\n",
       "0             1                      0                   0           1   \n",
       "1             3                      0                   0           2   \n",
       "2             0                      0                   0           0   \n",
       "3             1                      3                   0           0   \n",
       "4             1                      0                   0           0   \n",
       "\n",
       "   num_punctuations  num_words  \n",
       "0                 1         18  \n",
       "1                 1         19  \n",
       "2                 0          3  \n",
       "3                 0         14  \n",
       "4                 1          4  "
      ]
     },
     "execution_count": 8,
     "metadata": {},
     "output_type": "execute_result"
    }
   ],
   "source": [
    "train_df_fe = train_df.copy()\n",
    "train_df_fe['tweet_length'] = train_df_fe['tweet'].str.len()\n",
    "train_df_fe['num_hashtags'] = train_df_fe['tweet'].str.count('#')\n",
    "train_df_fe['num_exclamation_marks'] = train_df_fe['tweet'].str.count('!')\n",
    "train_df_fe['num_question_marks'] = train_df_fe['tweet'].str.count('\\?')\n",
    "train_df_fe['total_tags'] = train_df_fe['tweet'].str.count('@')\n",
    "train_df_fe['num_punctuations'] = train_df_fe['tweet'].str.count('[.,:;]')\n",
    "train_df_fe['num_words'] = train_df_fe['tweet'].apply(lambda x: len(x.split()))\n",
    "train_df_fe.head()"
   ]
  },
  {
   "cell_type": "code",
   "execution_count": 9,
   "id": "0b4617e6",
   "metadata": {
    "execution": {
     "iopub.execute_input": "2024-04-30T22:17:53.888651Z",
     "iopub.status.busy": "2024-04-30T22:17:53.888267Z",
     "iopub.status.idle": "2024-04-30T22:17:53.898962Z",
     "shell.execute_reply": "2024-04-30T22:17:53.897840Z"
    },
    "papermill": {
     "duration": 0.022217,
     "end_time": "2024-04-30T22:17:53.901331",
     "exception": false,
     "start_time": "2024-04-30T22:17:53.879114",
     "status": "completed"
    },
    "tags": []
   },
   "outputs": [],
   "source": [
    "# Data Preprocessing\n",
    "X = train_df.drop(columns=['label'])\n",
    "y = train_df['label']\n",
    "test = test_df"
   ]
  },
  {
   "cell_type": "code",
   "execution_count": 10,
   "id": "49fca66a",
   "metadata": {
    "execution": {
     "iopub.execute_input": "2024-04-30T22:17:53.918457Z",
     "iopub.status.busy": "2024-04-30T22:17:53.918103Z",
     "iopub.status.idle": "2024-04-30T22:17:53.931891Z",
     "shell.execute_reply": "2024-04-30T22:17:53.930986Z"
    },
    "papermill": {
     "duration": 0.025115,
     "end_time": "2024-04-30T22:17:53.934296",
     "exception": false,
     "start_time": "2024-04-30T22:17:53.909181",
     "status": "completed"
    },
    "tags": []
   },
   "outputs": [],
   "source": [
    "X_train, X_test, y_train, y_test = train_test_split(X, y, test_size=0.2, random_state=42)"
   ]
  },
  {
   "cell_type": "code",
   "execution_count": 11,
   "id": "b333d295",
   "metadata": {
    "execution": {
     "iopub.execute_input": "2024-04-30T22:17:53.951935Z",
     "iopub.status.busy": "2024-04-30T22:17:53.951542Z",
     "iopub.status.idle": "2024-04-30T22:17:53.958244Z",
     "shell.execute_reply": "2024-04-30T22:17:53.957040Z"
    },
    "papermill": {
     "duration": 0.018066,
     "end_time": "2024-04-30T22:17:53.960358",
     "exception": false,
     "start_time": "2024-04-30T22:17:53.942292",
     "status": "completed"
    },
    "tags": []
   },
   "outputs": [],
   "source": [
    "def tokenize_and_clean(text):\n",
    "    lowered = text.lower()\n",
    "    cleaned = re.sub('@user', '', lowered)\n",
    "    tokens = word_tokenize(cleaned)\n",
    "    filtered_tokens = [token for token in tokens if re.match(r'\\w{1,}', token)]\n",
    "    stemmer = PorterStemmer()\n",
    "    stems = [stemmer.stem(token) for token in filtered_tokens]\n",
    "    return stems"
   ]
  },
  {
   "cell_type": "code",
   "execution_count": 12,
   "id": "e0f8abe0",
   "metadata": {
    "execution": {
     "iopub.execute_input": "2024-04-30T22:17:53.978236Z",
     "iopub.status.busy": "2024-04-30T22:17:53.977791Z",
     "iopub.status.idle": "2024-04-30T22:18:58.251007Z",
     "shell.execute_reply": "2024-04-30T22:18:58.249938Z"
    },
    "papermill": {
     "duration": 64.285254,
     "end_time": "2024-04-30T22:18:58.253647",
     "exception": false,
     "start_time": "2024-04-30T22:17:53.968393",
     "status": "completed"
    },
    "tags": []
   },
   "outputs": [],
   "source": [
    "# TF-IDF Vectorization\n",
    "tfidf_vectorizer = TfidfVectorizer(tokenizer=tokenize_and_clean, stop_words='english')\n",
    "X_train_tweets_tfidf = tfidf_vectorizer.fit_transform(X_train['tweet'])\n",
    "X_test_tweets_tfidf = tfidf_vectorizer.transform(X_test['tweet'])\n",
    "X_tweets_tfidf = tfidf_vectorizer.fit_transform(X['tweet'])\n",
    "test_tweets_tfidf = tfidf_vectorizer.transform(test['tweet'])"
   ]
  },
  {
   "cell_type": "code",
   "execution_count": 13,
   "id": "e9005320",
   "metadata": {
    "execution": {
     "iopub.execute_input": "2024-04-30T22:18:58.272392Z",
     "iopub.status.busy": "2024-04-30T22:18:58.271446Z",
     "iopub.status.idle": "2024-04-30T22:18:58.889147Z",
     "shell.execute_reply": "2024-04-30T22:18:58.887928Z"
    },
    "papermill": {
     "duration": 0.629979,
     "end_time": "2024-04-30T22:18:58.891964",
     "exception": false,
     "start_time": "2024-04-30T22:18:58.261985",
     "status": "completed"
    },
    "tags": []
   },
   "outputs": [
    {
     "data": {
      "image/png": "[encoded data removed]",
      "text/plain": [
       "<Figure size 1200x600 with 2 Axes>"
      ]
     },
     "metadata": {},
     "output_type": "display_data"
    }
   ],
   "source": [
    "# Class Imbalance Check Before SMOTE\n",
    "plt.figure(figsize=(12, 6))\n",
    "\n",
    "# Colors for the pie charts\n",
    "colors_before_smote = ['#66b3ff', '#99ff99']\n",
    "colors_after_smote = ['#ff9999', '#66b3ff']\n",
    "\n",
    "labels = ['Label 0 (Positive Tweets)', 'Label 1 (Negative Tweets)']\n",
    "\n",
    "# Plotting before SMOTE\n",
    "plt.subplot(1, 2, 1)\n",
    "plt.pie(y_train.value_counts(), labels=labels, autopct='%0.1f%%', colors=colors_before_smote)\n",
    "plt.title('Class Distribution Before SMOTE')\n",
    "\n",
    "# SMOTE to deal with the class imbalance\n",
    "smote = SMOTE()\n",
    "X_train_smote, y_train_smote = smote.fit_resample(X_train_tweets_tfidf, y_train.values)\n",
    "\n",
    "# Plotting after SMOTE\n",
    "plt.subplot(1, 2, 2)\n",
    "plt.pie(pd.value_counts(y_train_smote), labels=labels, autopct='%0.1f%%', colors=colors_after_smote)\n",
    "plt.title('Class Distribution After SMOTE')\n",
    "plt.show()"
   ]
  },
  {
   "cell_type": "code",
   "execution_count": 14,
   "id": "e12e6ca1",
   "metadata": {
    "execution": {
     "iopub.execute_input": "2024-04-30T22:18:58.912167Z",
     "iopub.status.busy": "2024-04-30T22:18:58.911774Z",
     "iopub.status.idle": "2024-04-30T22:18:58.918390Z",
     "shell.execute_reply": "2024-04-30T22:18:58.917207Z"
    },
    "papermill": {
     "duration": 0.020118,
     "end_time": "2024-04-30T22:18:58.921259",
     "exception": false,
     "start_time": "2024-04-30T22:18:58.901141",
     "status": "completed"
    },
    "tags": []
   },
   "outputs": [],
   "source": [
    "# Functions to print scores\n",
    "def training_scores(y_act, y_pred):\n",
    "    acc = round(accuracy_score(y_act, y_pred), 3)\n",
    "    f1 = round(f1_score(y_act, y_pred), 3)\n",
    "    print(f'Training Scores: Accuracy={acc}, F1-Score={f1}')\n",
    "\n",
    "def validation_scores(y_act, y_pred):\n",
    "    acc = round(accuracy_score(y_act, y_pred), 3)\n",
    "    f1 = round(f1_score(y_act, y_pred), 3)\n",
    "    print(f'Validation Scores: Accuracy={acc}, F1-Score={f1}')"
   ]
  },
  {
   "cell_type": "code",
   "execution_count": 15,
   "id": "0966ecf7",
   "metadata": {
    "execution": {
     "iopub.execute_input": "2024-04-30T22:18:58.941386Z",
     "iopub.status.busy": "2024-04-30T22:18:58.940973Z",
     "iopub.status.idle": "2024-04-30T22:18:58.947545Z",
     "shell.execute_reply": "2024-04-30T22:18:58.946313Z"
    },
    "papermill": {
     "duration": 0.019375,
     "end_time": "2024-04-30T22:18:58.949833",
     "exception": false,
     "start_time": "2024-04-30T22:18:58.930458",
     "status": "completed"
    },
    "tags": []
   },
   "outputs": [],
   "source": [
    "# Machine Learning Modeling\n",
    "def train_and_evaluate(model, X_train, y_train, X_test, y_test):\n",
    "    model.fit(X_train, y_train)\n",
    "    y_train_pred = model.predict(X_train)\n",
    "    y_test_pred = model.predict(X_test)\n",
    "    \n",
    "    training_scores(y_train, y_train_pred)\n",
    "    validation_scores(y_test, y_test_pred)"
   ]
  },
  {
   "cell_type": "code",
   "execution_count": 16,
   "id": "857c10b2",
   "metadata": {
    "execution": {
     "iopub.execute_input": "2024-04-30T22:18:58.970171Z",
     "iopub.status.busy": "2024-04-30T22:18:58.969789Z",
     "iopub.status.idle": "2024-04-30T22:19:02.130735Z",
     "shell.execute_reply": "2024-04-30T22:19:02.129859Z"
    },
    "papermill": {
     "duration": 3.174187,
     "end_time": "2024-04-30T22:19:02.133236",
     "exception": false,
     "start_time": "2024-04-30T22:18:58.959049",
     "status": "completed"
    },
    "tags": []
   },
   "outputs": [
    {
     "name": "stdout",
     "output_type": "stream",
     "text": [
      "Training Scores: Accuracy=0.975, F1-Score=0.975\n",
      "Validation Scores: Accuracy=0.926, F1-Score=0.606\n"
     ]
    }
   ],
   "source": [
    "# Logistic Regression\n",
    "lr = LogisticRegression()\n",
    "train_and_evaluate(lr, X_train_smote, y_train_smote, X_test_tweets_tfidf, y_test)"
   ]
  },
  {
   "cell_type": "code",
   "execution_count": 17,
   "id": "e9262a87",
   "metadata": {
    "execution": {
     "iopub.execute_input": "2024-04-30T22:19:02.154643Z",
     "iopub.status.busy": "2024-04-30T22:19:02.153953Z",
     "iopub.status.idle": "2024-04-30T22:19:02.208712Z",
     "shell.execute_reply": "2024-04-30T22:19:02.207562Z"
    },
    "papermill": {
     "duration": 0.068642,
     "end_time": "2024-04-30T22:19:02.211271",
     "exception": false,
     "start_time": "2024-04-30T22:19:02.142629",
     "status": "completed"
    },
    "tags": []
   },
   "outputs": [
    {
     "name": "stdout",
     "output_type": "stream",
     "text": [
      "Training Scores: Accuracy=0.967, F1-Score=0.967\n",
      "Validation Scores: Accuracy=0.922, F1-Score=0.611\n"
     ]
    }
   ],
   "source": [
    "# Naive Bayes Classifier\n",
    "mnb = MultinomialNB()\n",
    "train_and_evaluate(mnb, X_train_smote, y_train_smote, X_test_tweets_tfidf, y_test)"
   ]
  },
  {
   "cell_type": "code",
   "execution_count": 18,
   "id": "4502290b",
   "metadata": {
    "execution": {
     "iopub.execute_input": "2024-04-30T22:19:02.232863Z",
     "iopub.status.busy": "2024-04-30T22:19:02.231988Z",
     "iopub.status.idle": "2024-04-30T22:20:07.289425Z",
     "shell.execute_reply": "2024-04-30T22:20:07.285161Z"
    },
    "papermill": {
     "duration": 65.077426,
     "end_time": "2024-04-30T22:20:07.298124",
     "exception": false,
     "start_time": "2024-04-30T22:19:02.220698",
     "status": "completed"
    },
    "tags": []
   },
   "outputs": [
    {
     "name": "stdout",
     "output_type": "stream",
     "text": [
      "Training Scores: Accuracy=1.0, F1-Score=1.0\n",
      "Validation Scores: Accuracy=0.958, F1-Score=0.67\n"
     ]
    }
   ],
   "source": [
    "# Random Forest Classifier\n",
    "rf = RandomForestClassifier()\n",
    "train_and_evaluate(rf, X_train_smote, y_train_smote, X_test_tweets_tfidf, y_test)"
   ]
  },
  {
   "cell_type": "code",
   "execution_count": 19,
   "id": "9f38937e",
   "metadata": {
    "execution": {
     "iopub.execute_input": "2024-04-30T22:20:07.318964Z",
     "iopub.status.busy": "2024-04-30T22:20:07.318574Z",
     "iopub.status.idle": "2024-04-30T22:20:20.696745Z",
     "shell.execute_reply": "2024-04-30T22:20:20.695220Z"
    },
    "papermill": {
     "duration": 13.391828,
     "end_time": "2024-04-30T22:20:20.699551",
     "exception": false,
     "start_time": "2024-04-30T22:20:07.307723",
     "status": "completed"
    },
    "tags": []
   },
   "outputs": [
    {
     "name": "stdout",
     "output_type": "stream",
     "text": [
      "Training Scores: Accuracy=0.94, F1-Score=0.938\n",
      "Validation Scores: Accuracy=0.946, F1-Score=0.611\n"
     ]
    }
   ],
   "source": [
    "# Extreme Gradient Boosting Classifier\n",
    "xgb = XGBClassifier(objective='binary:logistic', eval_metric='logloss')\n",
    "train_and_evaluate(xgb, X_train_smote, y_train_smote, X_test_tweets_tfidf, y_test)"
   ]
  },
  {
   "cell_type": "code",
   "execution_count": 20,
   "id": "544a3bd3",
   "metadata": {
    "execution": {
     "iopub.execute_input": "2024-04-30T22:20:20.720951Z",
     "iopub.status.busy": "2024-04-30T22:20:20.720487Z",
     "iopub.status.idle": "2024-04-30T22:21:06.072857Z",
     "shell.execute_reply": "2024-04-30T22:21:06.071536Z"
    },
    "papermill": {
     "duration": 45.376406,
     "end_time": "2024-04-30T22:21:06.085810",
     "exception": false,
     "start_time": "2024-04-30T22:20:20.709404",
     "status": "completed"
    },
    "tags": []
   },
   "outputs": [
    {
     "name": "stdout",
     "output_type": "stream",
     "text": [
      "Training Scores: Accuracy=0.999, F1-Score=0.999\n",
      "Validation Scores: Accuracy=0.956, F1-Score=0.677\n"
     ]
    }
   ],
   "source": [
    "rf_tuned = RandomForestClassifier(criterion='entropy',\n",
    "                                  max_samples=0.8, \n",
    "                                  min_samples_split=10, \n",
    "                                  random_state=0)\n",
    "train_and_evaluate(rf_tuned, X_train_smote, y_train_smote, X_test_tweets_tfidf, y_test)"
   ]
  },
  {
   "cell_type": "code",
   "execution_count": 21,
   "id": "a838161b",
   "metadata": {
    "execution": {
     "iopub.execute_input": "2024-04-30T22:21:06.108330Z",
     "iopub.status.busy": "2024-04-30T22:21:06.107310Z",
     "iopub.status.idle": "2024-04-30T22:21:39.254360Z",
     "shell.execute_reply": "2024-04-30T22:21:39.252948Z"
    },
    "papermill": {
     "duration": 33.171323,
     "end_time": "2024-04-30T22:21:39.267316",
     "exception": false,
     "start_time": "2024-04-30T22:21:06.095993",
     "status": "completed"
    },
    "tags": []
   },
   "outputs": [
    {
     "name": "stdout",
     "output_type": "stream",
     "text": [
      "Training Scores: Accuracy=0.998, F1-Score=0.998\n",
      "Validation Scores: Accuracy=0.954, F1-Score=0.644\n"
     ]
    }
   ],
   "source": [
    "xgb_tuned = XGBClassifier(objective='binary:logistic',\n",
    "                          eval_metric='logloss',\n",
    "                          learning_rate=0.8,\n",
    "                          max_depth=20,\n",
    "                          gamma=0.6,\n",
    "                          reg_lambda=0.1,\n",
    "                          reg_alpha=0.1)\n",
    "train_and_evaluate(xgb_tuned, X_train_smote, y_train_smote, X_test_tweets_tfidf, y_test)"
   ]
  }
 ],
 "metadata": {
  "kaggle": {
   "accelerator": "none",
   "dataSources": [
    {
     "datasetId": 4265094,
     "sourceId": 7345138,
     "sourceType": "datasetVersion"
    }
   ],
   "dockerImageVersionId": 30673,
   "isGpuEnabled": false,
   "isInternetEnabled": false,
   "language": "python",
   "sourceType": "notebook"
  },
  "kernelspec": {
   "display_name": "Python 3",
   "language": "python",
   "name": "python3"
  },
  "language_info": {
   "codemirror_mode": {
    "name": "ipython",
    "version": 3
   },
   "file_extension": ".py",
   "mimetype": "text/x-python",
   "name": "python",
   "nbconvert_exporter": "python",
   "pygments_lexer": "ipython3",
   "version": "3.10.13"
  },
  "papermill": {
   "default_parameters": {},
   "duration": 233.678913,
   "end_time": "2024-04-30T22:21:40.019009",
   "environment_variables": {},
   "exception": null,
   "input_path": "__notebook__.ipynb",
   "output_path": "__notebook__.ipynb",
   "parameters": {},
   "start_time": "2024-04-30T22:17:46.340096",
   "version": "2.5.0"
  }
 },
 "nbformat": 4,
 "nbformat_minor": 5
}
